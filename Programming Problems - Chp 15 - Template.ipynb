{
 "cells": [
  {
   "cell_type": "markdown",
   "metadata": {},
   "source": [
    "# Chapter 15 Programming Problems\n",
    "## DATA 250\n",
    "General Instructions:  Complete Problems 1, 2, and 4 on pages 274-275 of the textbook\n",
    "\n",
    "**NOTE:** Problems 2 & 4 should be completed using *openpxl* methods NOT pandas methods."
   ]
  },
  {
   "cell_type": "markdown",
   "metadata": {},
   "source": [
    "## Problem 1: Data Quality Checks with a Spreadsheet using pandas\n",
    "Import the spreadsheet 'sales_dq.xlsx' using the *pandas* function *read_excel*."
   ]
  },
  {
   "cell_type": "code",
   "execution_count": null,
   "metadata": {},
   "outputs": [],
   "source": []
  },
  {
   "cell_type": "markdown",
   "metadata": {},
   "source": [
    "a) Locate rows in the imported DataFrame where the count field (column) is zero or negative."
   ]
  },
  {
   "cell_type": "code",
   "execution_count": null,
   "metadata": {},
   "outputs": [],
   "source": []
  },
  {
   "cell_type": "markdown",
   "metadata": {},
   "source": [
    "b) Locate any additional rows that have missing values in other columns. "
   ]
  },
  {
   "cell_type": "code",
   "execution_count": null,
   "metadata": {},
   "outputs": [],
   "source": []
  },
  {
   "cell_type": "markdown",
   "metadata": {},
   "source": [
    "## Problem 2: Data Quality Checks with a Spreadsheet and openpyxl\n",
    "Repeat problem # 1 -- but do NOT use any pandas methods or functions, or a data-frame.  \n",
    "That is, access the cell items you need to check directly with openpyxl functions/methods!"
   ]
  },
  {
   "cell_type": "markdown",
   "metadata": {},
   "source": [
    "Prep Work: Import the spreadsheet using openpyxl"
   ]
  },
  {
   "cell_type": "code",
   "execution_count": null,
   "metadata": {},
   "outputs": [],
   "source": []
  },
  {
   "cell_type": "markdown",
   "metadata": {},
   "source": [
    "a) Find the row where the count field is zero or negative, then display the row of data.  \n",
    "Note: You already KNOW where the issue is from Problem 1, the point here is to use openpyxl methods to locate it a different way. Don't just examine the known error cell, but test the value in EACH row using openpyxl."
   ]
  },
  {
   "cell_type": "code",
   "execution_count": null,
   "metadata": {},
   "outputs": [],
   "source": []
  },
  {
   "cell_type": "markdown",
   "metadata": {},
   "source": [
    "b) Now use openpyxl to find other rows/columns with missing values.  \n",
    "Note: Again, you already have the 'answer'. The point here is to practice coding a different way of looking for it!"
   ]
  },
  {
   "cell_type": "code",
   "execution_count": null,
   "metadata": {},
   "outputs": [],
   "source": []
  },
  {
   "cell_type": "markdown",
   "metadata": {},
   "source": [
    "## Problem 4: Income Statement Assumptions with openpyxl\n",
    "For the spreadsheet 'incstmt-diva-assum.xlsx' used in Section 15.5, assume that the divisions are instructed to include spreadsheet cells with specific assumptions. In particular:  \n",
    "\n",
    "* Cell C3 will contain the sales growth assumption from 2020 to 2021\n",
    "* Cell C4 will contain the cost of goods as a percentage of sales.\n",
    "\n",
    "Write a program using *openpyxl* that reads a spreadsheet in this form and displays to the screen a row in the form:  \n",
    "division, sales_growth, cgs_percent"
   ]
  },
  {
   "cell_type": "code",
   "execution_count": null,
   "metadata": {},
   "outputs": [],
   "source": []
  },
  {
   "cell_type": "code",
   "execution_count": null,
   "metadata": {},
   "outputs": [],
   "source": []
  }
 ],
 "metadata": {
  "kernelspec": {
   "display_name": "Python 3",
   "language": "python",
   "name": "python3"
  },
  "language_info": {
   "codemirror_mode": {
    "name": "ipython",
    "version": 3
   },
   "file_extension": ".py",
   "mimetype": "text/x-python",
   "name": "python",
   "nbconvert_exporter": "python",
   "pygments_lexer": "ipython3",
   "version": "3.7.6"
  }
 },
 "nbformat": 4,
 "nbformat_minor": 4
}
